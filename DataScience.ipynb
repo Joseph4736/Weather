{
 "cells": [
  {
   "cell_type": "code",
   "execution_count": 1,
   "id": "6865bdcd",
   "metadata": {},
   "outputs": [],
   "source": [
    "import pandas as pd\n"
   ]
  },
  {
   "cell_type": "code",
   "execution_count": 2,
   "id": "3c1e704d",
   "metadata": {},
   "outputs": [],
   "source": [
    "wdata = pd.read_csv(\"WeatherInformation.csv\")"
   ]
  },
  {
   "cell_type": "code",
   "execution_count": 3,
   "id": "0a77b20f",
   "metadata": {},
   "outputs": [
    {
     "data": {
      "text/html": [
       "<div>\n",
       "<style scoped>\n",
       "    .dataframe tbody tr th:only-of-type {\n",
       "        vertical-align: middle;\n",
       "    }\n",
       "\n",
       "    .dataframe tbody tr th {\n",
       "        vertical-align: top;\n",
       "    }\n",
       "\n",
       "    .dataframe thead th {\n",
       "        text-align: right;\n",
       "    }\n",
       "</style>\n",
       "<table border=\"1\" class=\"dataframe\">\n",
       "  <thead>\n",
       "    <tr style=\"text-align: right;\">\n",
       "      <th></th>\n",
       "      <th>DAY</th>\n",
       "      <th>IRRAD</th>\n",
       "      <th>TMIN</th>\n",
       "      <th>TMAX</th>\n",
       "      <th>VAP</th>\n",
       "      <th>WIND</th>\n",
       "      <th>RAIN</th>\n",
       "      <th>SNOWDEPTH</th>\n",
       "      <th>TAVERAGE</th>\n",
       "    </tr>\n",
       "  </thead>\n",
       "  <tbody>\n",
       "    <tr>\n",
       "      <th>0</th>\n",
       "      <td>1/1/2001</td>\n",
       "      <td>22473.35508</td>\n",
       "      <td>16.760000</td>\n",
       "      <td>26.400000</td>\n",
       "      <td>10.15</td>\n",
       "      <td>2.700376</td>\n",
       "      <td>0.000000</td>\n",
       "      <td>-999.0</td>\n",
       "      <td>21.580000</td>\n",
       "    </tr>\n",
       "    <tr>\n",
       "      <th>1</th>\n",
       "      <td>1/2/2001</td>\n",
       "      <td>18266.69883</td>\n",
       "      <td>16.799999</td>\n",
       "      <td>27.330000</td>\n",
       "      <td>10.14</td>\n",
       "      <td>2.829110</td>\n",
       "      <td>0.000000</td>\n",
       "      <td>-999.0</td>\n",
       "      <td>22.065000</td>\n",
       "    </tr>\n",
       "    <tr>\n",
       "      <th>2</th>\n",
       "      <td>1/3/2001</td>\n",
       "      <td>16393.65469</td>\n",
       "      <td>17.700001</td>\n",
       "      <td>28.790001</td>\n",
       "      <td>10.13</td>\n",
       "      <td>2.704641</td>\n",
       "      <td>19.603001</td>\n",
       "      <td>-999.0</td>\n",
       "      <td>23.245001</td>\n",
       "    </tr>\n",
       "    <tr>\n",
       "      <th>3</th>\n",
       "      <td>1/4/2001</td>\n",
       "      <td>16142.31035</td>\n",
       "      <td>17.610001</td>\n",
       "      <td>27.020000</td>\n",
       "      <td>10.13</td>\n",
       "      <td>2.564393</td>\n",
       "      <td>0.000000</td>\n",
       "      <td>-999.0</td>\n",
       "      <td>22.315001</td>\n",
       "    </tr>\n",
       "    <tr>\n",
       "      <th>4</th>\n",
       "      <td>1/5/2001</td>\n",
       "      <td>15791.92031</td>\n",
       "      <td>17.950001</td>\n",
       "      <td>24.580000</td>\n",
       "      <td>10.13</td>\n",
       "      <td>2.490680</td>\n",
       "      <td>0.000000</td>\n",
       "      <td>-999.0</td>\n",
       "      <td>21.265000</td>\n",
       "    </tr>\n",
       "    <tr>\n",
       "      <th>...</th>\n",
       "      <td>...</td>\n",
       "      <td>...</td>\n",
       "      <td>...</td>\n",
       "      <td>...</td>\n",
       "      <td>...</td>\n",
       "      <td>...</td>\n",
       "      <td>...</td>\n",
       "      <td>...</td>\n",
       "      <td>...</td>\n",
       "    </tr>\n",
       "    <tr>\n",
       "      <th>7626</th>\n",
       "      <td>Median</td>\n",
       "      <td>16160.52744</td>\n",
       "      <td>16.070000</td>\n",
       "      <td>26.325000</td>\n",
       "      <td>10.12</td>\n",
       "      <td>3.127819</td>\n",
       "      <td>0.000000</td>\n",
       "      <td>NaN</td>\n",
       "      <td>NaN</td>\n",
       "    </tr>\n",
       "    <tr>\n",
       "      <th>7627</th>\n",
       "      <td>Mode</td>\n",
       "      <td>14495.24619</td>\n",
       "      <td>16.629999</td>\n",
       "      <td>26.530001</td>\n",
       "      <td>10.11</td>\n",
       "      <td>1.790000</td>\n",
       "      <td>0.000000</td>\n",
       "      <td>NaN</td>\n",
       "      <td>NaN</td>\n",
       "    </tr>\n",
       "    <tr>\n",
       "      <th>7628</th>\n",
       "      <td>1st Quartile</td>\n",
       "      <td>14249.66089</td>\n",
       "      <td>15.090000</td>\n",
       "      <td>24.870001</td>\n",
       "      <td>10.11</td>\n",
       "      <td>2.575365</td>\n",
       "      <td>0.000000</td>\n",
       "      <td>NaN</td>\n",
       "      <td>NaN</td>\n",
       "    </tr>\n",
       "    <tr>\n",
       "      <th>7629</th>\n",
       "      <td>2nd Quartile</td>\n",
       "      <td>16160.52744</td>\n",
       "      <td>16.070000</td>\n",
       "      <td>26.325000</td>\n",
       "      <td>10.12</td>\n",
       "      <td>3.127819</td>\n",
       "      <td>0.000000</td>\n",
       "      <td>NaN</td>\n",
       "      <td>NaN</td>\n",
       "    </tr>\n",
       "    <tr>\n",
       "      <th>7630</th>\n",
       "      <td>3rd Quartile</td>\n",
       "      <td>18967.39058</td>\n",
       "      <td>NaN</td>\n",
       "      <td>NaN</td>\n",
       "      <td>NaN</td>\n",
       "      <td>NaN</td>\n",
       "      <td>NaN</td>\n",
       "      <td>NaN</td>\n",
       "      <td>NaN</td>\n",
       "    </tr>\n",
       "  </tbody>\n",
       "</table>\n",
       "<p>7631 rows × 9 columns</p>\n",
       "</div>"
      ],
      "text/plain": [
       "               DAY        IRRAD       TMIN       TMAX    VAP      WIND  \\\n",
       "0         1/1/2001  22473.35508  16.760000  26.400000  10.15  2.700376   \n",
       "1         1/2/2001  18266.69883  16.799999  27.330000  10.14  2.829110   \n",
       "2         1/3/2001  16393.65469  17.700001  28.790001  10.13  2.704641   \n",
       "3         1/4/2001  16142.31035  17.610001  27.020000  10.13  2.564393   \n",
       "4         1/5/2001  15791.92031  17.950001  24.580000  10.13  2.490680   \n",
       "...            ...          ...        ...        ...    ...       ...   \n",
       "7626        Median  16160.52744  16.070000  26.325000  10.12  3.127819   \n",
       "7627          Mode  14495.24619  16.629999  26.530001  10.11  1.790000   \n",
       "7628  1st Quartile  14249.66089  15.090000  24.870001  10.11  2.575365   \n",
       "7629  2nd Quartile  16160.52744  16.070000  26.325000  10.12  3.127819   \n",
       "7630  3rd Quartile  18967.39058        NaN        NaN    NaN       NaN   \n",
       "\n",
       "           RAIN  SNOWDEPTH   TAVERAGE  \n",
       "0      0.000000     -999.0  21.580000  \n",
       "1      0.000000     -999.0  22.065000  \n",
       "2     19.603001     -999.0  23.245001  \n",
       "3      0.000000     -999.0  22.315001  \n",
       "4      0.000000     -999.0  21.265000  \n",
       "...         ...        ...        ...  \n",
       "7626   0.000000        NaN        NaN  \n",
       "7627   0.000000        NaN        NaN  \n",
       "7628   0.000000        NaN        NaN  \n",
       "7629   0.000000        NaN        NaN  \n",
       "7630        NaN        NaN        NaN  \n",
       "\n",
       "[7631 rows x 9 columns]"
      ]
     },
     "execution_count": 3,
     "metadata": {},
     "output_type": "execute_result"
    }
   ],
   "source": [
    "wdata"
   ]
  },
  {
   "cell_type": "code",
   "execution_count": 4,
   "id": "a3d5a225",
   "metadata": {},
   "outputs": [
    {
     "ename": "AttributeError",
     "evalue": "'DataFrame' object has no attribute 'description'",
     "output_type": "error",
     "traceback": [
      "\u001b[1;31m---------------------------------------------------------------------------\u001b[0m",
      "\u001b[1;31mAttributeError\u001b[0m                            Traceback (most recent call last)",
      "\u001b[1;32m~\\AppData\\Local\\Temp/ipykernel_7424/3715228707.py\u001b[0m in \u001b[0;36m<module>\u001b[1;34m\u001b[0m\n\u001b[1;32m----> 1\u001b[1;33m \u001b[0mwdata\u001b[0m\u001b[1;33m.\u001b[0m\u001b[0mdescription\u001b[0m\u001b[1;33m(\u001b[0m\u001b[1;33m)\u001b[0m\u001b[1;33m\u001b[0m\u001b[1;33m\u001b[0m\u001b[0m\n\u001b[0m",
      "\u001b[1;32m~\\anaconda3\\lib\\site-packages\\pandas\\core\\generic.py\u001b[0m in \u001b[0;36m__getattr__\u001b[1;34m(self, name)\u001b[0m\n\u001b[0;32m   5485\u001b[0m         ):\n\u001b[0;32m   5486\u001b[0m             \u001b[1;32mreturn\u001b[0m \u001b[0mself\u001b[0m\u001b[1;33m[\u001b[0m\u001b[0mname\u001b[0m\u001b[1;33m]\u001b[0m\u001b[1;33m\u001b[0m\u001b[1;33m\u001b[0m\u001b[0m\n\u001b[1;32m-> 5487\u001b[1;33m         \u001b[1;32mreturn\u001b[0m \u001b[0mobject\u001b[0m\u001b[1;33m.\u001b[0m\u001b[0m__getattribute__\u001b[0m\u001b[1;33m(\u001b[0m\u001b[0mself\u001b[0m\u001b[1;33m,\u001b[0m \u001b[0mname\u001b[0m\u001b[1;33m)\u001b[0m\u001b[1;33m\u001b[0m\u001b[1;33m\u001b[0m\u001b[0m\n\u001b[0m\u001b[0;32m   5488\u001b[0m \u001b[1;33m\u001b[0m\u001b[0m\n\u001b[0;32m   5489\u001b[0m     \u001b[1;32mdef\u001b[0m \u001b[0m__setattr__\u001b[0m\u001b[1;33m(\u001b[0m\u001b[0mself\u001b[0m\u001b[1;33m,\u001b[0m \u001b[0mname\u001b[0m\u001b[1;33m:\u001b[0m \u001b[0mstr\u001b[0m\u001b[1;33m,\u001b[0m \u001b[0mvalue\u001b[0m\u001b[1;33m)\u001b[0m \u001b[1;33m->\u001b[0m \u001b[1;32mNone\u001b[0m\u001b[1;33m:\u001b[0m\u001b[1;33m\u001b[0m\u001b[1;33m\u001b[0m\u001b[0m\n",
      "\u001b[1;31mAttributeError\u001b[0m: 'DataFrame' object has no attribute 'description'"
     ]
    }
   ],
   "source": [
    "wdata.description()"
   ]
  },
  {
   "cell_type": "code",
   "execution_count": 5,
   "id": "62b22724",
   "metadata": {},
   "outputs": [
    {
     "data": {
      "text/html": [
       "<div>\n",
       "<style scoped>\n",
       "    .dataframe tbody tr th:only-of-type {\n",
       "        vertical-align: middle;\n",
       "    }\n",
       "\n",
       "    .dataframe tbody tr th {\n",
       "        vertical-align: top;\n",
       "    }\n",
       "\n",
       "    .dataframe thead th {\n",
       "        text-align: right;\n",
       "    }\n",
       "</style>\n",
       "<table border=\"1\" class=\"dataframe\">\n",
       "  <thead>\n",
       "    <tr style=\"text-align: right;\">\n",
       "      <th></th>\n",
       "      <th>IRRAD</th>\n",
       "      <th>TMIN</th>\n",
       "      <th>TMAX</th>\n",
       "      <th>VAP</th>\n",
       "      <th>WIND</th>\n",
       "      <th>RAIN</th>\n",
       "      <th>SNOWDEPTH</th>\n",
       "      <th>TAVERAGE</th>\n",
       "    </tr>\n",
       "  </thead>\n",
       "  <tbody>\n",
       "    <tr>\n",
       "      <th>count</th>\n",
       "      <td>7630.000000</td>\n",
       "      <td>7629.000000</td>\n",
       "      <td>7629.000000</td>\n",
       "      <td>370.000000</td>\n",
       "      <td>7629.000000</td>\n",
       "      <td>7629.000000</td>\n",
       "      <td>365.0</td>\n",
       "      <td>7624.000000</td>\n",
       "    </tr>\n",
       "    <tr>\n",
       "      <th>mean</th>\n",
       "      <td>16889.515884</td>\n",
       "      <td>15.985726</td>\n",
       "      <td>26.290817</td>\n",
       "      <td>10.120867</td>\n",
       "      <td>3.282690</td>\n",
       "      <td>2.496924</td>\n",
       "      <td>-999.0</td>\n",
       "      <td>21.138350</td>\n",
       "    </tr>\n",
       "    <tr>\n",
       "      <th>std</th>\n",
       "      <td>3607.193149</td>\n",
       "      <td>1.330855</td>\n",
       "      <td>2.141519</td>\n",
       "      <td>0.017102</td>\n",
       "      <td>1.015257</td>\n",
       "      <td>9.473771</td>\n",
       "      <td>0.0</td>\n",
       "      <td>1.453366</td>\n",
       "    </tr>\n",
       "    <tr>\n",
       "      <th>min</th>\n",
       "      <td>7794.863086</td>\n",
       "      <td>9.220000</td>\n",
       "      <td>17.459999</td>\n",
       "      <td>10.070000</td>\n",
       "      <td>0.000000</td>\n",
       "      <td>0.000000</td>\n",
       "      <td>-999.0</td>\n",
       "      <td>15.015000</td>\n",
       "    </tr>\n",
       "    <tr>\n",
       "      <th>25%</th>\n",
       "      <td>14250.793360</td>\n",
       "      <td>15.090000</td>\n",
       "      <td>24.870001</td>\n",
       "      <td>10.110000</td>\n",
       "      <td>2.575365</td>\n",
       "      <td>0.000000</td>\n",
       "      <td>-999.0</td>\n",
       "      <td>20.183750</td>\n",
       "    </tr>\n",
       "    <tr>\n",
       "      <th>50%</th>\n",
       "      <td>16160.527440</td>\n",
       "      <td>16.070000</td>\n",
       "      <td>26.325000</td>\n",
       "      <td>10.120000</td>\n",
       "      <td>3.127819</td>\n",
       "      <td>0.000000</td>\n",
       "      <td>-999.0</td>\n",
       "      <td>21.220000</td>\n",
       "    </tr>\n",
       "    <tr>\n",
       "      <th>75%</th>\n",
       "      <td>18966.766110</td>\n",
       "      <td>16.920000</td>\n",
       "      <td>27.760000</td>\n",
       "      <td>10.130000</td>\n",
       "      <td>3.987334</td>\n",
       "      <td>0.000000</td>\n",
       "      <td>-999.0</td>\n",
       "      <td>22.100000</td>\n",
       "    </tr>\n",
       "    <tr>\n",
       "      <th>max</th>\n",
       "      <td>28279.954690</td>\n",
       "      <td>20.510000</td>\n",
       "      <td>32.689999</td>\n",
       "      <td>10.170000</td>\n",
       "      <td>7.591962</td>\n",
       "      <td>183.335297</td>\n",
       "      <td>-999.0</td>\n",
       "      <td>25.705001</td>\n",
       "    </tr>\n",
       "  </tbody>\n",
       "</table>\n",
       "</div>"
      ],
      "text/plain": [
       "              IRRAD         TMIN         TMAX         VAP         WIND  \\\n",
       "count   7630.000000  7629.000000  7629.000000  370.000000  7629.000000   \n",
       "mean   16889.515884    15.985726    26.290817   10.120867     3.282690   \n",
       "std     3607.193149     1.330855     2.141519    0.017102     1.015257   \n",
       "min     7794.863086     9.220000    17.459999   10.070000     0.000000   \n",
       "25%    14250.793360    15.090000    24.870001   10.110000     2.575365   \n",
       "50%    16160.527440    16.070000    26.325000   10.120000     3.127819   \n",
       "75%    18966.766110    16.920000    27.760000   10.130000     3.987334   \n",
       "max    28279.954690    20.510000    32.689999   10.170000     7.591962   \n",
       "\n",
       "              RAIN  SNOWDEPTH     TAVERAGE  \n",
       "count  7629.000000      365.0  7624.000000  \n",
       "mean      2.496924     -999.0    21.138350  \n",
       "std       9.473771        0.0     1.453366  \n",
       "min       0.000000     -999.0    15.015000  \n",
       "25%       0.000000     -999.0    20.183750  \n",
       "50%       0.000000     -999.0    21.220000  \n",
       "75%       0.000000     -999.0    22.100000  \n",
       "max     183.335297     -999.0    25.705001  "
      ]
     },
     "execution_count": 5,
     "metadata": {},
     "output_type": "execute_result"
    }
   ],
   "source": [
    "wdata.describe()"
   ]
  },
  {
   "cell_type": "code",
   "execution_count": 6,
   "id": "a0ce1811",
   "metadata": {},
   "outputs": [
    {
     "name": "stdout",
     "output_type": "stream",
     "text": [
      "Requirement already satisfied: matplotlib in c:\\users\\user\\anaconda3\\lib\\site-packages (3.4.3)\n",
      "Requirement already satisfied: pillow>=6.2.0 in c:\\users\\user\\anaconda3\\lib\\site-packages (from matplotlib) (8.4.0)\n",
      "Requirement already satisfied: cycler>=0.10 in c:\\users\\user\\anaconda3\\lib\\site-packages (from matplotlib) (0.10.0)\n",
      "Requirement already satisfied: pyparsing>=2.2.1 in c:\\users\\user\\anaconda3\\lib\\site-packages (from matplotlib) (3.0.4)\n",
      "Requirement already satisfied: kiwisolver>=1.0.1 in c:\\users\\user\\anaconda3\\lib\\site-packages (from matplotlib) (1.3.1)\n",
      "Requirement already satisfied: numpy>=1.16 in c:\\users\\user\\anaconda3\\lib\\site-packages (from matplotlib) (1.20.3)\n",
      "Requirement already satisfied: python-dateutil>=2.7 in c:\\users\\user\\anaconda3\\lib\\site-packages (from matplotlib) (2.8.2)\n",
      "Requirement already satisfied: six in c:\\users\\user\\anaconda3\\lib\\site-packages (from cycler>=0.10->matplotlib) (1.16.0)\n",
      "Note: you may need to restart the kernel to use updated packages.\n"
     ]
    }
   ],
   "source": [
    "pip install matplotlib"
   ]
  },
  {
   "cell_type": "code",
   "execution_count": 7,
   "id": "13ede214",
   "metadata": {},
   "outputs": [
    {
     "name": "stderr",
     "output_type": "stream",
     "text": [
      "Matplotlib is building the font cache; this may take a moment.\n"
     ]
    }
   ],
   "source": [
    "import matplotlib.pyplot as plt"
   ]
  },
  {
   "cell_type": "code",
   "execution_count": 8,
   "id": "b631901e",
   "metadata": {},
   "outputs": [
    {
     "data": {
      "image/png": "[encoded data removed]",
      "text/plain": [
       "<Figure size 432x288 with 1 Axes>"
      ]
     },
     "metadata": {
      "needs_background": "light"
     },
     "output_type": "display_data"
    }
   ],
   "source": [
    "x=[1,2,3,4,5,6,7,8]\n",
    "y=[2,4,6,8,10,12,14,16]\n",
    "plt.plot(x,y)\n",
    "plt.show()"
   ]
  },
  {
   "cell_type": "code",
   "execution_count": 13,
   "id": "e14b7f9f",
   "metadata": {},
   "outputs": [
    {
     "data": {
      "text/plain": [
       "<AxesSubplot:xlabel='DAY'>"
      ]
     },
     "execution_count": 13,
     "metadata": {},
     "output_type": "execute_result"
    },
    {
     "data": {
      "image/png": "[encoded data removed]",
      "text/plain": [
       "<Figure size 432x288 with 1 Axes>"
      ]
     },
     "metadata": {
      "needs_background": "light"
     },
     "output_type": "display_data"
    }
   ],
   "source": [
    "\n",
    "\n",
    "wdata.plot(x=\"DAY\", y=\"IRRAD\")"
   ]
  },
  {
   "cell_type": "code",
   "execution_count": 14,
   "id": "897d2de9",
   "metadata": {},
   "outputs": [
    {
     "data": {
      "image/png": "[encoded data removed]",
      "text/plain": [
       "<Figure size 432x288 with 1 Axes>"
      ]
     },
     "metadata": {
      "needs_background": "light"
     },
     "output_type": "display_data"
    }
   ],
   "source": [
    "wdata.plot()\n",
    "\n",
    "plt.show()"
   ]
  },
  {
   "cell_type": "code",
   "execution_count": 18,
   "id": "a514b193",
   "metadata": {},
   "outputs": [
    {
     "data": {
      "text/plain": [
       "<AxesSubplot:xlabel='DAY'>"
      ]
     },
     "execution_count": 18,
     "metadata": {},
     "output_type": "execute_result"
    },
    {
     "data": {
      "image/png": "[encoded data removed]",
      "text/plain": [
       "<Figure size 432x288 with 1 Axes>"
      ]
     },
     "metadata": {
      "needs_background": "light"
     },
     "output_type": "display_data"
    }
   ],
   "source": [
    "wdata.plot(x ='DAY', y='IRRAD', kind = 'line')"
   ]
  },
  {
   "cell_type": "code",
   "execution_count": 19,
   "id": "eeff7978",
   "metadata": {},
   "outputs": [
    {
     "data": {
      "text/plain": [
       "<AxesSubplot:xlabel='DAY'>"
      ]
     },
     "execution_count": 19,
     "metadata": {},
     "output_type": "execute_result"
    },
    {
     "data": {
      "image/png": "[encoded data removed]",
      "text/plain": [
       "<Figure size 432x288 with 1 Axes>"
      ]
     },
     "metadata": {
      "needs_background": "light"
     },
     "output_type": "display_data"
    }
   ],
   "source": [
    "wdata.plot(x ='DAY', y='TMIN', kind = 'line')"
   ]
  },
  {
   "cell_type": "code",
   "execution_count": 20,
   "id": "f274a126",
   "metadata": {},
   "outputs": [
    {
     "ename": "SyntaxError",
     "evalue": "invalid syntax (Temp/ipykernel_7424/2830201818.py, line 1)",
     "output_type": "error",
     "traceback": [
      "\u001b[1;36m  File \u001b[1;32m\"C:\\Users\\user\\AppData\\Local\\Temp/ipykernel_7424/2830201818.py\"\u001b[1;36m, line \u001b[1;32m1\u001b[0m\n\u001b[1;33m    git init\u001b[0m\n\u001b[1;37m        ^\u001b[0m\n\u001b[1;31mSyntaxError\u001b[0m\u001b[1;31m:\u001b[0m invalid syntax\n"
     ]
    }
   ],
   "source": [
    "git init"
   ]
  },
  {
   "cell_type": "code",
   "execution_count": 21,
   "id": "41df693d",
   "metadata": {},
   "outputs": [
    {
     "ename": "SyntaxError",
     "evalue": "invalid syntax (Temp/ipykernel_7424/3695311004.py, line 1)",
     "output_type": "error",
     "traceback": [
      "\u001b[1;36m  File \u001b[1;32m\"C:\\Users\\user\\AppData\\Local\\Temp/ipykernel_7424/3695311004.py\"\u001b[1;36m, line \u001b[1;32m1\u001b[0m\n\u001b[1;33m    $ git init\u001b[0m\n\u001b[1;37m    ^\u001b[0m\n\u001b[1;31mSyntaxError\u001b[0m\u001b[1;31m:\u001b[0m invalid syntax\n"
     ]
    }
   ],
   "source": [
    "$ git init\n"
   ]
  },
  {
   "cell_type": "code",
   "execution_count": null,
   "id": "0e84abea",
   "metadata": {},
   "outputs": [],
   "source": []
  },
  {
   "cell_type": "code",
   "execution_count": 1,
   "id": "ce4ca320",
   "metadata": {},
   "outputs": [
    {
     "ename": "NameError",
     "evalue": "name 'wdata' is not defined",
     "output_type": "error",
     "traceback": [
      "\u001b[1;31m---------------------------------------------------------------------------\u001b[0m",
      "\u001b[1;31mNameError\u001b[0m                                 Traceback (most recent call last)",
      "\u001b[1;32m~\\AppData\\Local\\Temp/ipykernel_16564/3988419259.py\u001b[0m in \u001b[0;36m<module>\u001b[1;34m\u001b[0m\n\u001b[1;32m----> 1\u001b[1;33m \u001b[0mwdata\u001b[0m\u001b[1;33m.\u001b[0m\u001b[0mplot\u001b[0m\u001b[1;33m(\u001b[0m\u001b[0mx\u001b[0m \u001b[1;33m=\u001b[0m\u001b[1;34m'DAY'\u001b[0m\u001b[1;33m,\u001b[0m \u001b[0my\u001b[0m\u001b[1;33m=\u001b[0m\u001b[1;34m'TMIN'\u001b[0m\u001b[1;33m,\u001b[0m \u001b[0mkind\u001b[0m \u001b[1;33m=\u001b[0m \u001b[1;34m'line'\u001b[0m\u001b[1;33m)\u001b[0m\u001b[1;33m\u001b[0m\u001b[1;33m\u001b[0m\u001b[0m\n\u001b[0m",
      "\u001b[1;31mNameError\u001b[0m: name 'wdata' is not defined"
     ]
    }
   ],
   "source": [
    "wdata.plot(x ='DAY', y='TMIN', kind = 'line')"
   ]
  },
  {
   "cell_type": "code",
   "execution_count": 2,
   "id": "6831a071",
   "metadata": {},
   "outputs": [
    {
     "ename": "NameError",
     "evalue": "name 'wdata' is not defined",
     "output_type": "error",
     "traceback": [
      "\u001b[1;31m---------------------------------------------------------------------------\u001b[0m",
      "\u001b[1;31mNameError\u001b[0m                                 Traceback (most recent call last)",
      "\u001b[1;32m~\\AppData\\Local\\Temp/ipykernel_16564/3988419259.py\u001b[0m in \u001b[0;36m<module>\u001b[1;34m\u001b[0m\n\u001b[1;32m----> 1\u001b[1;33m \u001b[0mwdata\u001b[0m\u001b[1;33m.\u001b[0m\u001b[0mplot\u001b[0m\u001b[1;33m(\u001b[0m\u001b[0mx\u001b[0m \u001b[1;33m=\u001b[0m\u001b[1;34m'DAY'\u001b[0m\u001b[1;33m,\u001b[0m \u001b[0my\u001b[0m\u001b[1;33m=\u001b[0m\u001b[1;34m'TMIN'\u001b[0m\u001b[1;33m,\u001b[0m \u001b[0mkind\u001b[0m \u001b[1;33m=\u001b[0m \u001b[1;34m'line'\u001b[0m\u001b[1;33m)\u001b[0m\u001b[1;33m\u001b[0m\u001b[1;33m\u001b[0m\u001b[0m\n\u001b[0m",
      "\u001b[1;31mNameError\u001b[0m: name 'wdata' is not defined"
     ]
    }
   ],
   "source": [
    "wdata.plot(x ='DAY', y='TMIN', kind = 'line')"
   ]
  },
  {
   "cell_type": "code",
   "execution_count": 3,
   "id": "f1821c27",
   "metadata": {},
   "outputs": [],
   "source": [
    "import pandas as pd\n",
    "\n"
   ]
  },
  {
   "cell_type": "code",
   "execution_count": null,
   "id": "1e94e024",
   "metadata": {},
   "outputs": [],
   "source": [
    "z"
   ]
  }
 ],
 "metadata": {
  "kernelspec": {
   "display_name": "Python 3 (ipykernel)",
   "language": "python",
   "name": "python3"
  },
  "language_info": {
   "codemirror_mode": {
    "name": "ipython",
    "version": 3
   },
   "file_extension": ".py",
   "mimetype": "text/x-python",
   "name": "python",
   "nbconvert_exporter": "python",
   "pygments_lexer": "ipython3",
   "version": "3.9.7"
  }
 },
 "nbformat": 4,
 "nbformat_minor": 5
}
